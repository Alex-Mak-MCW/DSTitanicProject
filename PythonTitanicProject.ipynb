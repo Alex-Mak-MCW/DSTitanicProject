{
 "cells": [
  {
   "cell_type": "code",
   "execution_count": 3,
   "metadata": {},
   "outputs": [],
   "source": [
    "# Import modules for future uses\n",
    "import numpy as np # linear algebra\n",
    "import pandas as pd # data processing, CSV file I/O (e.g. pd.read_csv)"
   ]
  },
  {
   "cell_type": "code",
   "execution_count": null,
   "metadata": {},
   "outputs": [],
   "source": [
    "# read train.csv as training data\n",
    "train_data = pd.read_csv(\"/Users/alexmak/Desktop/CMPUT/Personal/summer2023/TitanicProject/train.csv\")\n",
    "# use head() to get the top of the data\n",
    "train_data.head()"
   ]
  },
  {
   "cell_type": "code",
   "execution_count": null,
   "metadata": {},
   "outputs": [],
   "source": [
    "# read test.csv as testing data\n",
    "test_data = pd.read_csv(\"/Users/alexmak/Desktop/CMPUT/Personal/summer2023/TitanicProject/test.csv\")\n",
    "# use head() to get the top of the data\n",
    "test_data.head()"
   ]
  },
  {
   "cell_type": "code",
   "execution_count": 8,
   "metadata": {},
   "outputs": [
    {
     "name": "stdout",
     "output_type": "stream",
     "text": [
      "% of women who survived: 0.7420382165605095\n"
     ]
    }
   ],
   "source": [
    "# pd.loc to access data in array based on given column(s)\n",
    "# Find female survivors in training data\n",
    "women = train_data.loc[train_data.Sex == 'female'][\"Survived\"]\n",
    "# Find the rate of survived women by adding the (0/1) then divide the amount of women\n",
    "rate_women = sum(women)/len(women)\n",
    "\n",
    "# Print the percentage of women\n",
    "print(\"% of women who survived:\", rate_women)"
   ]
  },
  {
   "cell_type": "code",
   "execution_count": 9,
   "metadata": {},
   "outputs": [
    {
     "name": "stdout",
     "output_type": "stream",
     "text": [
      "% of men who survived: 0.18890814558058924\n"
     ]
    }
   ],
   "source": [
    "# pd.loc to access data in array based on given column(s)\n",
    "# Find male survivors in training data\n",
    "men = train_data.loc[train_data.Sex == 'male'][\"Survived\"]\n",
    "# Find the rate of survived women by adding the (0/1) then divide the amount of women\n",
    "rate_men = sum(men)/len(men)\n",
    "\n",
    "# Print the percentage of women\n",
    "print(\"% of men who survived:\", rate_men)"
   ]
  },
  {
   "cell_type": "code",
   "execution_count": 10,
   "metadata": {},
   "outputs": [
    {
     "name": "stderr",
     "output_type": "stream",
     "text": [
      "/Library/Frameworks/Python.framework/Versions/3.9/lib/python3.9/site-packages/scipy/__init__.py:138: UserWarning: A NumPy version >=1.16.5 and <1.23.0 is required for this version of SciPy (detected version 1.24.2)\n",
      "  warnings.warn(f\"A NumPy version >={np_minversion} and <{np_maxversion} is required for this version of \"\n"
     ]
    },
    {
     "name": "stdout",
     "output_type": "stream",
     "text": [
      "Your submission was successfully saved!\n"
     ]
    }
   ],
   "source": [
    "# Implementing Random Forest Model\n",
    "from sklearn.ensemble import RandomForestClassifier\n",
    "\n",
    "# assign y to the survived passengers in training data\n",
    "y = train_data[\"Survived\"]\n",
    "\n",
    "# Build trees based on the features selected\n",
    "features = [\"Pclass\", \"Sex\", \"SibSp\", \"Parch\"]\n",
    "# Assign X/X_test to the numerical variables from the training/testing data\n",
    "# Use pd.get_dummies to convert categorical variable to a numerical one\n",
    "X = pd.get_dummies(train_data[features])\n",
    "X_test = pd.get_dummies(test_data[features])\n",
    "\n",
    "# Implement random forest classifier with argument\n",
    "model = RandomForestClassifier(n_estimators=100, max_depth=5, random_state=1)\n",
    "# TRY to fit the model\n",
    "model.fit(X, y)\n",
    "# use model.predict to save the model's predictions\n",
    "predictions = model.predict(X_test)\n",
    "\n",
    "# Assign output to a dataframe\n",
    "output = pd.DataFrame({'PassengerId': test_data.PassengerId, 'Survived': predictions})\n",
    "# Assign output to a csv file\n",
    "output.to_csv('submission.csv', index=False)\n",
    "print(\"Your submission was successfully saved!\")"
   ]
  }
 ],
 "metadata": {
  "kernelspec": {
   "display_name": "Python 3",
   "language": "python",
   "name": "python3"
  },
  "language_info": {
   "codemirror_mode": {
    "name": "ipython",
    "version": 3
   },
   "file_extension": ".py",
   "mimetype": "text/x-python",
   "name": "python",
   "nbconvert_exporter": "python",
   "pygments_lexer": "ipython3",
   "version": "3.9.7"
  },
  "orig_nbformat": 4
 },
 "nbformat": 4,
 "nbformat_minor": 2
}
